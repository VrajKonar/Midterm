{
 "cells": [
  {
   "cell_type": "code",
   "execution_count": null,
   "id": "5f76eba5",
   "metadata": {},
   "outputs": [],
   "source": []
  },
  {
   "cell_type": "markdown",
   "id": "4bdf15a8",
   "metadata": {},
   "source": [
    "### 21. "
   ]
  },
  {
   "cell_type": "code",
   "execution_count": 4,
   "id": "88ff4a54",
   "metadata": {},
   "outputs": [
    {
     "name": "stdout",
     "output_type": "stream",
     "text": [
      "Length of the segment: 5.0\n",
      "Slope of the segment: 0.75\n"
     ]
    }
   ],
   "source": [
    "import math\n",
    "\n",
    "class Point:\n",
    "    def __init__(self, x_coord=0, y_coord=0):\n",
    "        self.x_coord = x_coord\n",
    "        self.y_coord = y_coord\n",
    "\n",
    "class LineSegment:\n",
    "    def __init__(self, point1=None, point2=None):\n",
    "        self.point1 = point1 if point1 else Point()  # Use default Point() if point1 is None\n",
    "        self.point2 = point2 if point2 else Point()  # Use default Point() if point2 is None\n",
    "    \n",
    "    def calculate_length(self):\n",
    "        \"\"\"\n",
    "        Calculates and returns the length of the segment using the Euclidean distance formula.\n",
    "        \"\"\"\n",
    "        return math.sqrt((self.point2.x_coord - self.point1.x_coord)**2 + (self.point2.y_coord - self.point1.y_coord)**2)\n",
    "    \n",
    "    def calculate_slope(self):\n",
    "        \"\"\"\n",
    "        Calculates and returns the slope of the segment.\n",
    "        \"\"\"\n",
    "        delta_x = self.point2.x_coord - self.point1.x_coord\n",
    "        delta_y = self.point2.y_coord - self.point1.y_coord\n",
    "        \n",
    "        if delta_y != 0:\n",
    "            return delta_x / delta_y\n",
    "        else:\n",
    "            return None  # Return None for vertical segments (undefined slope)\n",
    "\n",
    "# Example usage:\n",
    "p1 = Point(3, 4)     # Create Point p1 at (3, 4)\n",
    "p2 = Point()         # Create Point p2 at the default (0, 0)\n",
    "\n",
    "segment = LineSegment(p1, p2)  # Create LineSegment using points p1 and p2\n",
    "\n",
    "# Print the length and slope of the segment\n",
    "print(\"Length of the segment:\", segment.calculate_length())\n",
    "print(\"Slope of the segment:\", segment.calculate_slope())\n"
   ]
  },
  {
   "cell_type": "code",
   "execution_count": null,
   "id": "2ad14e24",
   "metadata": {},
   "outputs": [],
   "source": []
  },
  {
   "cell_type": "markdown",
   "id": "7ff8d109",
   "metadata": {},
   "source": [
    "### 22."
   ]
  },
  {
   "cell_type": "code",
   "execution_count": 6,
   "id": "f672190f",
   "metadata": {},
   "outputs": [
    {
     "name": "stdout",
     "output_type": "stream",
     "text": [
      "Days with higher temperatures than the previous day (record IDs): [(2,), (4,)]\n"
     ]
    }
   ],
   "source": [
    "import sqlite3\n",
    "from datetime import date\n",
    "\n",
    "# New set of weather data for the example\n",
    "weather_entries = [\n",
    "    (1, '2015-01-01', 10),\n",
    "    (2, '2015-01-02', 25),\n",
    "    (3, '2015-01-03', 20),\n",
    "    (4, '2015-01-04', 30)\n",
    "]\n",
    "\n",
    "def initialize_database(entries):\n",
    "\n",
    "    # Connect to the SQLite database\n",
    "    connection = sqlite3.connect('weather_data.db')\n",
    "    cursor = connection.cursor()\n",
    "\n",
    "    # Create the TemperatureRecords table if it doesn't exist\n",
    "    cursor.execute('''\n",
    "        CREATE TABLE IF NOT EXISTS TemperatureRecords (\n",
    "            record_id INTEGER PRIMARY KEY,\n",
    "            date TEXT,\n",
    "            temperature INTEGER\n",
    "        )\n",
    "    ''')\n",
    "\n",
    "    # Insert multiple weather entries into the TemperatureRecords table\n",
    "    cursor.executemany('''\n",
    "        INSERT INTO TemperatureRecords (record_id, date, temperature) \n",
    "        VALUES (?, ?, ?)\n",
    "    ''', entries)\n",
    "\n",
    "    # Commit the transaction to save changes and close the connection\n",
    "    connection.commit()\n",
    "    connection.close()\n",
    "\n",
    "def fetch_days_with_increased_temps():\n",
    " \n",
    "    # SQL query to find days with higher temperatures than the previous day\n",
    "    sql_query = \"\"\"\n",
    "        SELECT current_day.record_id\n",
    "        FROM TemperatureRecords current_day\n",
    "        JOIN TemperatureRecords previous_day \n",
    "        ON DATE(current_day.date, '-1 day') = previous_day.date\n",
    "        WHERE current_day.temperature > previous_day.temperature\n",
    "    \"\"\"\n",
    "\n",
    "    # Connect to the SQLite database\n",
    "    connection = sqlite3.connect('weather_data.db')\n",
    "    cursor = connection.cursor()\n",
    "\n",
    "    # Execute the SQL query\n",
    "    cursor.execute(sql_query)\n",
    "\n",
    "    # Retrieve all matching record IDs\n",
    "    increased_temp_days = cursor.fetchall()\n",
    "\n",
    "    # Close the cursor and database connection\n",
    "    cursor.close()\n",
    "    connection.close()\n",
    "\n",
    "    return increased_temp_days\n",
    "\n",
    "# Initialize the database with the new set of weather entries\n",
    "initialize_database(weather_entries)\n",
    "\n",
    "# Retrieve and print the days with higher temperatures than the previous day\n",
    "days_with_higher_temps = fetch_days_with_increased_temps()\n",
    "print(\"Days with higher temperatures than the previous day (record IDs):\", days_with_higher_temps)"
   ]
  },
  {
   "cell_type": "code",
   "execution_count": null,
   "id": "03bf8c71",
   "metadata": {},
   "outputs": [],
   "source": []
  },
  {
   "cell_type": "markdown",
   "id": "3f7b79f7",
   "metadata": {},
   "source": [
    "### 23.  Develop a recursive function tough() that takes two nonnegative integer arguments and outputs a pattern as shown below. Hint: The first argument represents the indentation of the pattern, where the second argument -- always a pattern of 2 indicates the number *s in the longest line of *s in the pattern\n",
    "\n"
   ]
  },
  {
   "cell_type": "code",
   "execution_count": 9,
   "id": "8b405d1b",
   "metadata": {},
   "outputs": [
    {
     "name": "stdout",
     "output_type": "stream",
     "text": [
      "tough(0, 0):\n",
      "\n",
      "tough(0, 1):\n",
      "*\n",
      "\n",
      "tough(0, 2):\n",
      "*\n",
      "**\n",
      " *\n",
      "\n",
      "tough(0, 4):\n",
      "*\n",
      "**\n",
      " *\n",
      "****\n",
      "  *\n",
      "  **\n",
      "   *\n"
     ]
    }
   ],
   "source": [
    "def tough(indentation, stars):\n",
    "\n",
    "    if stars == 0:\n",
    "        return  # Base case: no stars to print\n",
    "    elif stars == 1:\n",
    "        print(' ' * indentation + '*')  # Print a single star with specified indentation\n",
    "    else:\n",
    "        # Print the top part of the pattern\n",
    "        print(' ' * indentation + '*')  # First line with one star\n",
    "        if stars > 1:\n",
    "            print(' ' * indentation + '**')  # Second line with two stars\n",
    "            print(' ' * (indentation + 1) + '*')  # Third line with one star indented\n",
    "\n",
    "        # Print the middle part of the pattern\n",
    "        if stars > 2:\n",
    "            print(' ' * indentation + '*' * stars)  # Line with stars equal to 'stars'\n",
    "\n",
    "        # Recursively call to print the next part of the pattern\n",
    "        if stars > 2:\n",
    "            tough(indentation + 2, stars - 2)  # Recursively print the next part with reduced stars\n",
    "\n",
    "# Test cases\n",
    "print(\"tough(0, 0):\")\n",
    "tough(0, 0)\n",
    "print(\"\\ntough(0, 1):\")\n",
    "tough(0, 1)\n",
    "print(\"\\ntough(0, 2):\")\n",
    "tough(0, 2)\n",
    "print(\"\\ntough(0, 4):\")\n",
    "tough(0, 4)\n"
   ]
  },
  {
   "cell_type": "code",
   "execution_count": null,
   "id": "ff26c547",
   "metadata": {},
   "outputs": [],
   "source": []
  },
  {
   "cell_type": "code",
   "execution_count": null,
   "id": "241f96de",
   "metadata": {},
   "outputs": [],
   "source": []
  }
 ],
 "metadata": {
  "kernelspec": {
   "display_name": "Python 3 (ipykernel)",
   "language": "python",
   "name": "python3"
  },
  "language_info": {
   "codemirror_mode": {
    "name": "ipython",
    "version": 3
   },
   "file_extension": ".py",
   "mimetype": "text/x-python",
   "name": "python",
   "nbconvert_exporter": "python",
   "pygments_lexer": "ipython3",
   "version": "3.11.3"
  }
 },
 "nbformat": 4,
 "nbformat_minor": 5
}
